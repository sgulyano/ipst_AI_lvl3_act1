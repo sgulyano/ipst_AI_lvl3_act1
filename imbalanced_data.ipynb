{
 "cells": [
  {
   "cell_type": "code",
   "execution_count": 1,
   "metadata": {},
   "outputs": [],
   "source": [
    "import plotly.graph_objects as go\n",
    "import pandas as pd\n",
    "import numpy as np\n",
    "from sklearn import tree\n",
    "from sklearn.datasets import load_breast_cancer\n",
    "\n",
    "##\n",
    "data = load_breast_cancer()\n",
    "X = data['data'][:,:2]\n",
    "y = data['target']\n",
    "\n",
    "idx = np.random.choice(np.where(y==0)[0], size=int(np.sum(y==1)*0.1), replace=False)\n",
    "\n",
    "x_train = np.concatenate((X[y==1], X[idx]))\n",
    "y_train = np.concatenate((y[y==1], y[idx]))\n",
    "\n",
    "def get_fig(x_train, y_train):\n",
    "    clf = tree.DecisionTreeClassifier(random_state=0, max_depth=4, min_samples_split=10)\n",
    "    clf = clf.fit(x_train, y_train)\n",
    "    # tree.plot_tree(clf)\n",
    "\n",
    "\n",
    "    plot_step = 0.1\n",
    "    x_min, x_max = X[:, 0].min() - 1, X[:, 0].max() + 1\n",
    "    y_min, y_max = X[:, 1].min() - 1, X[:, 1].max() + 1\n",
    "    xx, yy = np.meshgrid(np.arange(x_min, x_max, plot_step),\n",
    "                        np.arange(y_min, y_max, plot_step))\n",
    "\n",
    "    Z = clf.predict(np.c_[xx.ravel(), yy.ravel()])\n",
    "    Z = Z.reshape(xx.shape)\n",
    "\n",
    "    colorscale = [[0, 'peachpuff'], [1, 'lightcyan']]\n",
    "    fig = go.FigureWidget(data = \n",
    "                    go.Heatmap(\n",
    "                        z=Z,\n",
    "                        x=np.arange(x_min, x_max, plot_step),\n",
    "                        y=np.arange(y_min, y_max, plot_step),\n",
    "                        colorscale=colorscale,\n",
    "                        colorbar = dict(),\n",
    "                        showscale = False\n",
    "                        # colorbar=dict(nticks=10, ticks='outside',\n",
    "                        #               ticklen=5, tickwidth=1,\n",
    "                        #               showticklabels=True,\n",
    "                        #               tickangle=0, tickfont_size=12)\n",
    "                    ))\n",
    "\n",
    "    colors = ['red', 'blue']\n",
    "    for i, color in enumerate(colors):\n",
    "        idx = np.where(y_train == i)\n",
    "        fig.add_trace(go.Scatter(x=x_train[idx, 0].squeeze(), y=x_train[idx, 1].squeeze(),\n",
    "                                mode='markers',\n",
    "                                name=data.target_names[i], \n",
    "                                marker_color=color))\n",
    "    return fig\n",
    "\n",
    "fig = get_fig(x_train, y_train)\n",
    "fig.layout.width = 500"
   ]
  },
  {
   "cell_type": "code",
   "execution_count": 7,
   "metadata": {},
   "outputs": [],
   "source": [
    "from ipywidgets import Button, HBox, VBox, HTML, IntSlider, Checkbox, Box, Layout\n",
    "\n",
    "title = HTML('<H1>จำนวนข้อมูลที่ไม่สมดุลกัน (Imbalanced Data)</H1>')\n",
    "desc = HTML('''<div>\n",
    "ในแบบฝึกหัดนี้ ให้นักเรียนลองใช้เทคนิค 1) การสุ่มข้อมูลจากกลุ่มหลักให้มีน้อยลง (Under-Sampling) และ 2) \n",
    "การสร้างข้อมูลของกลุ่มย่อยให้มีมากขึ้น (Over-Sampling) แล้วลองสังเกต Decision Tree ผลลัพธ์ ที่ได้\n",
    "</div>''')\n",
    "header = VBox([title, desc])\n",
    "\n",
    "control = [HTML('<H3>Under-Sampling</H3>'), \n",
    "           IntSlider(),\n",
    "           HTML('<H3>Under-Sampling</H3>'), \n",
    "           IntSlider(),\n",
    "           HTML('<H3>Parameters</H3>'), \n",
    "           Checkbox(description='แสดง Decision Boundary', indent=False)]\n",
    "sidebar = Box(control, layout=Layout(width='auto', flex_flow='column', grid_area='sidebar'))\n"
   ]
  },
  {
   "cell_type": "code",
   "execution_count": 9,
   "metadata": {},
   "outputs": [
    {
     "data": {
      "application/vnd.jupyter.widget-view+json": {
       "model_id": "0155da81dbc14305aa3961ec9aa9cdec",
       "version_major": 2,
       "version_minor": 0
      },
      "text/plain": [
       "AppLayout(children=(VBox(children=(HTML(value='<H1>จำนวนข้อมูลที่ไม่สมดุลกัน (Imbalanced Data)</H1>'), HTML(va…"
      ]
     },
     "metadata": {},
     "output_type": "display_data"
    }
   ],
   "source": [
    "from ipywidgets import AppLayout\n",
    "\n",
    "AppLayout(header=header,\n",
    "          left_sidebar=sidebar,\n",
    "          center=HBox([fig]),\n",
    "          right_sidebar=None,\n",
    "          footer=None)"
   ]
  },
  {
   "cell_type": "code",
   "execution_count": null,
   "metadata": {},
   "outputs": [],
   "source": []
  }
 ],
 "metadata": {
  "kernelspec": {
   "display_name": "Python 3",
   "language": "python",
   "name": "python3"
  },
  "language_info": {
   "codemirror_mode": {
    "name": "ipython",
    "version": 3
   },
   "file_extension": ".py",
   "mimetype": "text/x-python",
   "name": "python",
   "nbconvert_exporter": "python",
   "pygments_lexer": "ipython3",
   "version": "3.7.3"
  }
 },
 "nbformat": 4,
 "nbformat_minor": 4
}
