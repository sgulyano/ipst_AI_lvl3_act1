{
 "cells": [
  {
   "cell_type": "code",
   "execution_count": 94,
   "metadata": {},
   "outputs": [],
   "source": [
    "import plotly.graph_objects as go\n",
    "import pandas as pd\n",
    "import numpy as np\n",
    "from sklearn import tree\n",
    "from sklearn.datasets import load_breast_cancer\n",
    "\n",
    "##\n",
    "data = load_breast_cancer()\n",
    "X = data['data'][:,:2]\n",
    "y = data['target']\n",
    "\n",
    "idx = np.random.choice(np.where(y==0)[0], size=int(np.sum(y==1)*0.1), replace=False)\n",
    "\n",
    "x_train = np.concatenate((X[y==1], X[idx]))\n",
    "y_train = np.concatenate((y[y==1], y[idx]))\n",
    "\n",
    "def get_fig(x_train, y_train):\n",
    "    clf = tree.DecisionTreeClassifier(random_state=0, max_depth=4, min_samples_split=10)\n",
    "    clf = clf.fit(x_train, y_train)\n",
    "    # tree.plot_tree(clf)\n",
    "\n",
    "\n",
    "    plot_step = 0.1\n",
    "    x_min, x_max = X[:, 0].min() - 1, X[:, 0].max() + 1\n",
    "    y_min, y_max = X[:, 1].min() - 1, X[:, 1].max() + 1\n",
    "    xx, yy = np.meshgrid(np.arange(x_min, x_max, plot_step),\n",
    "                        np.arange(y_min, y_max, plot_step))\n",
    "\n",
    "    Z = clf.predict(np.c_[xx.ravel(), yy.ravel()])\n",
    "    Z = Z.reshape(xx.shape)\n",
    "\n",
    "    colorscale = [[0, 'peachpuff'], [1, 'lightcyan']]\n",
    "    fig = go.FigureWidget(data = \n",
    "                    go.Heatmap(\n",
    "                        z=Z,\n",
    "                        x=np.arange(x_min, x_max, plot_step),\n",
    "                        y=np.arange(y_min, y_max, plot_step),\n",
    "                        colorscale=colorscale,\n",
    "                        colorbar = dict(),\n",
    "                        showscale = False\n",
    "                        # colorbar=dict(nticks=10, ticks='outside',\n",
    "                        #               ticklen=5, tickwidth=1,\n",
    "                        #               showticklabels=True,\n",
    "                        #               tickangle=0, tickfont_size=12)\n",
    "                    ))\n",
    "\n",
    "    colors = ['red', 'blue']\n",
    "    for i, color in enumerate(colors):\n",
    "        idx = np.where(y_train == i)\n",
    "        fig.add_trace(go.Scatter(x=x_train[idx, 0].squeeze(), y=x_train[idx, 1].squeeze(),\n",
    "                                mode='markers',\n",
    "                                name=data.target_names[i], \n",
    "                                marker_color=color))\n",
    "    return fig\n",
    "\n",
    "fig = get_fig(x_train, y_train)\n",
    "fig.layout.width = 700"
   ]
  },
  {
   "cell_type": "code",
   "execution_count": 102,
   "metadata": {},
   "outputs": [],
   "source": [
    "z = Box([fig])\n",
    "\n",
    "z.layout.overflow_x = 'scroll'"
   ]
  },
  {
   "cell_type": "code",
   "execution_count": 103,
   "metadata": {},
   "outputs": [
    {
     "data": {
      "application/vnd.jupyter.widget-view+json": {
       "model_id": "204ccdb110c94e99a914e70220a9e5b6",
       "version_major": 2,
       "version_minor": 0
      },
      "text/plain": [
       "Box(children=(FigureWidget({\n",
       "    'data': [{'colorscale': [[0, 'peachpuff'], [1, 'lightcyan']],\n",
       "              '…"
      ]
     },
     "metadata": {},
     "output_type": "display_data"
    }
   ],
   "source": [
    "z"
   ]
  },
  {
   "cell_type": "code",
   "execution_count": 90,
   "metadata": {},
   "outputs": [
    {
     "data": {
      "application/vnd.jupyter.widget-view+json": {
       "model_id": "0e891ff73a7e436baf5977b5cb5a6704",
       "version_major": 2,
       "version_minor": 0
      },
      "text/plain": [
       "VBox(children=(VBox(children=(HTML(value='<H1>จำนวนข้อมูลที่ไม่สมดุลกัน (Imbalanced Data)</H1>'), HTML(value='…"
      ]
     },
     "metadata": {},
     "output_type": "display_data"
    }
   ],
   "source": [
    "from ipywidgets import Button, HBox, VBox, HTML, IntSlider, ToggleButton, Box\n",
    "\n",
    "title = HTML('<H1>จำนวนข้อมูลที่ไม่สมดุลกัน (Imbalanced Data)</H1>')\n",
    "desc = HTML('''<div>\n",
    "ในแบบฝึกหัดนี้ ให้นักเรียนลองใช้เทคนิค 1) การสุ่มข้อมูลจากกลุ่มหลักให้มีน้อยลง (Under-Sampling) และ 2) \n",
    "การสร้างข้อมูลของกลุ่มย่อยให้มีมากขึ้น (Over-Sampling) แล้วลองสังเกต Decision Tree ผลลัพธ์ ที่ได้\n",
    "</div>''')\n",
    "words = ['correct', 'horse', 'battery', 'staple']\n",
    "items = [Button(description=w) for w in words]\n",
    "header = VBox([title, desc])\n",
    "\n",
    "control = VBox([HTML('<H3>Under-Sampling</H3>'), \n",
    "                IntSlider(),\n",
    "                HTML('<H3>Under-Sampling</H3>'), \n",
    "                IntSlider(),\n",
    "                HTML('<H3>Parameters</H3>'), \n",
    "                ToggleButton(description='แสดง Decision Boundary', button_style='info', layout=Layout(flex='1 1 auto', width='auto'))])\n",
    "\n",
    "body = HBox([control, items[2], items[3]])\n",
    "VBox([header, body])\n",
    "\n"
   ]
  },
  {
   "cell_type": "code",
   "execution_count": 96,
   "metadata": {},
   "outputs": [
    {
     "data": {
      "application/vnd.jupyter.widget-view+json": {
       "model_id": "693dbc66ea7b4a199899efdd22e4343b",
       "version_major": 2,
       "version_minor": 0
      },
      "text/plain": [
       "Box(children=(Box(children=(HTML(value='<H3>Under-Sampling</H3>'),), layout=Layout(display='flex', flex_flow='…"
      ]
     },
     "metadata": {},
     "output_type": "display_data"
    }
   ],
   "source": [
    "form_item_layout = Layout(\n",
    "    display='flex',\n",
    "    flex_flow='row',\n",
    ")\n",
    "\n",
    "\n",
    "form = Box([Box([HTML('<H3>Under-Sampling</H3>')], layout=form_item_layout), \n",
    "            Box([    IntSlider()], layout=form_item_layout),\n",
    "            Box([    HTML('<H3>Under-Sampling</H3>')], layout=form_item_layout), \n",
    "            Box([    IntSlider()], layout=form_item_layout),\n",
    "            Box([    HTML('<H3>Parameters</H3>')], layout=form_item_layout), \n",
    "            Box([    Checkbox(description='แสดง Decision Boundary', indent=False)], layout=form_item_layout)  ], layout=Layout(\n",
    "    display='flex',\n",
    "    flex_flow='column',\n",
    "    align_items='stretch',\n",
    "    width='30%'\n",
    "))\n",
    "form"
   ]
  },
  {
   "cell_type": "code",
   "execution_count": 98,
   "metadata": {},
   "outputs": [
    {
     "data": {
      "application/vnd.jupyter.widget-view+json": {
       "model_id": "f6ff533d13a74bc39aa26c7d4d36bb70",
       "version_major": 2,
       "version_minor": 0
      },
      "text/plain": [
       "GridBox(children=(Box(children=(HTML(value='<H1>จำนวนข้อมูลที่ไม่สมดุลกัน (Imbalanced Data)</H1>'), HTML(value…"
      ]
     },
     "metadata": {},
     "output_type": "display_data"
    }
   ],
   "source": [
    "from ipywidgets import Button, GridBox, Layout, ButtonStyle\n",
    "\n",
    "title = HTML('<H1>จำนวนข้อมูลที่ไม่สมดุลกัน (Imbalanced Data)</H1>')\n",
    "desc = HTML('''<div>\n",
    "ในแบบฝึกหัดนี้ ให้นักเรียนลองใช้เทคนิค 1) การสุ่มข้อมูลจากกลุ่มหลักให้มีน้อยลง (Under-Sampling) และ 2) \n",
    "การสร้างข้อมูลของกลุ่มย่อยให้มีมากขึ้น (Over-Sampling) แล้วลองสังเกต Decision Tree ผลลัพธ์ ที่ได้\n",
    "</div>''')\n",
    "\n",
    "header = Box([title, desc], layout=Layout(width='auto', flex_flow='column', grid_area='header'))\n",
    "\n",
    "# header  = Button(description='Header',\n",
    "#                  layout=Layout(width='auto', grid_area='header'),\n",
    "#                  style=ButtonStyle(button_color='lightblue'))\n",
    "\n",
    "main = Box([fig], layout=Layout(width='100%', flex_flow='row', grid_area='main'))\n",
    "# main    = Button(description='Main',\n",
    "#                  layout=Layout(width='auto', grid_area='main'),\n",
    "#                  style=ButtonStyle(button_color='moccasin'))\n",
    "\n",
    "controls = [Box([HTML('<H3>Under-Sampling</H3>')], layout=form_item_layout), \n",
    "            Box([    IntSlider()], layout=form_item_layout),\n",
    "            Box([    HTML('<H3>Under-Sampling</H3>')], layout=form_item_layout), \n",
    "            Box([    IntSlider()], layout=form_item_layout),\n",
    "            Box([    HTML('<H3>Parameters</H3>')], layout=form_item_layout), \n",
    "            Box([    Checkbox(description='แสดง Decision Boundary', indent=False)], layout=form_item_layout) ]\n",
    "\n",
    "sidebar = Box(controls, layout=Layout(width='auto', flex_flow='column', grid_area='sidebar'))\n",
    "\n",
    "GridBox(children=[header, main, sidebar],\n",
    "        layout=Layout(\n",
    "            width='100%',\n",
    "            grid_template_rows='auto fill',\n",
    "            grid_template_columns='30% 70%',\n",
    "            grid_template_areas='''\n",
    "            \"header header\"\n",
    "            \"sidebar main\"\n",
    "            ''', overflow_x='auto')\n",
    "       )"
   ]
  },
  {
   "cell_type": "code",
   "execution_count": 86,
   "metadata": {},
   "outputs": [
    {
     "data": {
      "application/vnd.jupyter.widget-view+json": {
       "model_id": "e6e8567996f64370860ae15250f74935",
       "version_major": 2,
       "version_minor": 0
      },
      "text/plain": [
       "AppLayout(children=(Box(children=(HTML(value='<H1>จำนวนข้อมูลที่ไม่สมดุลกัน (Imbalanced Data)</H1>'), HTML(val…"
      ]
     },
     "metadata": {},
     "output_type": "display_data"
    }
   ],
   "source": [
    "from ipywidgets import AppLayout, Button, Layout\n",
    "\n",
    "def create_expanded_button(description, button_style):\n",
    "    return Button(description=description, button_style=button_style, layout=Layout(height='auto', width='auto'))\n",
    "\n",
    "\n",
    "header_button = create_expanded_button('Header', 'success')\n",
    "left_button = create_expanded_button('Left', 'info')\n",
    "center_button = create_expanded_button('Center', 'warning')\n",
    "right_button = create_expanded_button('Right', 'info')\n",
    "footer_button = create_expanded_button('Footer', 'success')\n",
    "\n",
    "AppLayout(header=header,\n",
    "          left_sidebar=sidebar,\n",
    "          center=HBox([fig]),\n",
    "          right_sidebar=None,\n",
    "          footer=None,\n",
    "          pane_widths = [1, '1000px', 1])"
   ]
  },
  {
   "cell_type": "code",
   "execution_count": null,
   "metadata": {},
   "outputs": [],
   "source": []
  }
 ],
 "metadata": {
  "kernelspec": {
   "display_name": "Python 3",
   "language": "python",
   "name": "python3"
  },
  "language_info": {
   "codemirror_mode": {
    "name": "ipython",
    "version": 3
   },
   "file_extension": ".py",
   "mimetype": "text/x-python",
   "name": "python",
   "nbconvert_exporter": "python",
   "pygments_lexer": "ipython3",
   "version": "3.7.3"
  }
 },
 "nbformat": 4,
 "nbformat_minor": 4
}
