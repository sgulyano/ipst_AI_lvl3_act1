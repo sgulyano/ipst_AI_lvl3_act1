{
 "cells": [
  {
   "cell_type": "code",
   "execution_count": 16,
   "metadata": {},
   "outputs": [
    {
     "data": {
      "application/vnd.jupyter.widget-view+json": {
       "model_id": "ccf549802f6e4409adba869ae48dfa29",
       "version_major": 2,
       "version_minor": 0
      },
      "text/plain": [
       "HBox(children=(VBox(children=(IntSlider(value=0), FigureWidget({\n",
       "    'data': [{'type': 'bar', 'uid': '21ba55cb…"
      ]
     },
     "metadata": {},
     "output_type": "display_data"
    }
   ],
   "source": [
    "from ipywidgets import HBox, VBox, IntSlider, interactive_output\n",
    "from IPython.display import display\n",
    "import plotly.graph_objects as go\n",
    "\n",
    "fig = go.FigureWidget(data=go.Bar(y=[2, 3, 1]))\n",
    "\n",
    "a = IntSlider()\n",
    "\n",
    "def f(a):\n",
    "    bar = fig.data[0]\n",
    "    bar.y = [a, 3, 1]\n",
    "    print(\"{}\".format(a))\n",
    "\n",
    "out = interactive_output(f, { \"a\": a })\n",
    "\n",
    "display(HBox([VBox([a, fig]), out]))"
   ]
  }
 ],
 "metadata": {
  "kernelspec": {
   "display_name": "Python 3",
   "language": "python",
   "name": "python3"
  },
  "language_info": {
   "codemirror_mode": {
    "name": "ipython",
    "version": 3
   },
   "file_extension": ".py",
   "mimetype": "text/x-python",
   "name": "python",
   "nbconvert_exporter": "python",
   "pygments_lexer": "ipython3",
   "version": "3.7.3"
  }
 },
 "nbformat": 4,
 "nbformat_minor": 4
}
